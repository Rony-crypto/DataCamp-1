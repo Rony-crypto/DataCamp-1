{
 "cells": [
  {
   "cell_type": "markdown",
   "metadata": {},
   "source": [
    "## In this closing chapter, you'll learn how to use nested queries to add some finesse to your data insights. You'll also wrap all of the content covered throughout this course into solving three challenge problems"
   ]
  },
  {
   "cell_type": "markdown",
   "metadata": {},
   "source": [
    "## Subquery inside where\n",
    "You'll now try to figure out which countries had high average life expectancies (at the country level) in 2015."
   ]
  },
  {
   "cell_type": "markdown",
   "metadata": {},
   "source": [
    "__Instructions__\n",
    "- Begin by calculating the average life expectancy across all countries for 2015.  \n",
    "\n",
    "```SQL\n",
    "-- Select average life_expectancy\n",
    "SElECT AVG(life_expectancy)\n",
    "-- From populations\n",
    "FROM populations\n",
    "-- Where year is 2015\n",
    "WHERE year = 2015;\n",
    "```  \n",
    "- Recall that you can use SQL to do calculations for you. Suppose we wanted only records that were above 1.15 * 100 in terms of life expectancy for 2015:\n",
    "\n",
    "```SQL\n",
    "SELECT *\n",
    "FROM populations\n",
    "WHERE life_expectancy > 1.15 * 100\n",
    "AND year = 2015;\n",
    "```\n",
    "Select all fields from populations with records corresponding to larger than 1.15 times the average you calculated in the first task for 2015. In other words, change the 100 in the example above with a subquery."
   ]
  },
  {
   "cell_type": "markdown",
   "metadata": {},
   "source": [
    "```SQL\n",
    "SELECT *\n",
    "-- From populations\n",
    "FROM populations\n",
    "-- Where life_expectancy is greater than\n",
    "WHERE life_expectancy >\n",
    "-- 1.15 * subquery\n",
    "1.15 * (SELECT AVG(life_expectancy)\n",
    "FROM populations\n",
    "WHERE year = 2015) AND\n",
    "year = 2015;\n",
    "```"
   ]
  },
  {
   "cell_type": "markdown",
   "metadata": {},
   "source": [
    "## Subquery inside where (2)\n",
    "Use your knowledge of subqueries in WHERE to get the urban area population for only capital cities."
   ]
  },
  {
   "cell_type": "markdown",
   "metadata": {},
   "source": [
    "```SQL\n",
    "-- 2. Select fields\n",
    "SELECT name, country_code, urbanarea_pop\n",
    "-- 3. From cities\n",
    "FROM cities\n",
    "-- 4. Where city name in the field of capital cities\n",
    "WHERE name IN\n",
    "-- 1. Subquery\n",
    "(SELECT capital FROM countries)\n",
    "ORDER BY urbanarea_pop DESC;\n",
    "```"
   ]
  },
  {
   "cell_type": "markdown",
   "metadata": {},
   "source": [
    "## Subquery inside select\n",
    "In this exercise, you'll see how some queries can be written using either a join or a subquery."
   ]
  },
  {
   "cell_type": "markdown",
   "metadata": {},
   "source": [
    "```SQL\n",
    "/*\n",
    "SELECT countries.name AS country, COUNT(*) AS cities_num\n",
    "FROM cities\n",
    "  INNER JOIN countries\n",
    "  ON countries.code = cities.country_code\n",
    "GROUP BY country\n",
    "ORDER BY cities_num DESC, country\n",
    "LIMIT 9;\n",
    "*/\n",
    "\n",
    "SELECT countries.name AS country,\n",
    "(SELECT COUNT(*)\n",
    "FROM cities\n",
    "WHERE countries.code = cities.country_code) AS cities_num\n",
    "FROM countries\n",
    "ORDER BY cities_num DESC, country\n",
    "LIMIT 9;\n",
    "```"
   ]
  },
  {
   "cell_type": "markdown",
   "metadata": {},
   "source": [
    "## Subquery inside from\n",
    "The last type of subquery you will work with is one inside of FROM.\n",
    "\n",
    "You will use this to determine the number of languages spoken for each country, identified by the country's local name! (Note this may be different than the name field and is stored in the local_name field.)"
   ]
  },
  {
   "cell_type": "markdown",
   "metadata": {},
   "source": [
    "```SQL\n",
    "SELECT local_name, subquery.lang_num\n",
    "FROM countries,\n",
    "(SELECT code, COUNT(*) AS lang_num\n",
    "FROM languages\n",
    "GROUP BY code) AS subquery\n",
    "WHERE countries.code = subquery.code\n",
    "ORDER BY lang_num DESC;\n",
    "```"
   ]
  },
  {
   "cell_type": "markdown",
   "metadata": {},
   "source": [
    "## Advanced subquery\n",
    "You can also nest multiple subqueries to answer even more specific questions.\n",
    "\n",
    "In this exercise, for each of the six continents listed in 2015, you'll identify which country had the maximum inflation rate (and how high it was) using multiple subqueries. The table result of your query in Task 3 should look something like the following, where anything between < > will be filled in with appropriate values:"
   ]
  },
  {
   "cell_type": "markdown",
   "metadata": {},
   "source": [
    "1.  \n",
    "\n",
    "```SQL\n",
    "-- Select fields\n",
    "SELECT name, continent, inflation_rate\n",
    "-- From countries\n",
    "FROM countries\n",
    "-- Join to economies\n",
    "INNER JOIN economies\n",
    "-- Match on code\n",
    "USING (code)\n",
    "-- Where year is 2015\n",
    "WHERE year = 2015;\n",
    "``` \n",
    "\n",
    "2.  \n",
    "\n",
    "```SQL\n",
    "-- Select fields\n",
    "SELECT MAX(inflation_rate) AS max_inf\n",
    "-- Subquery using FROM (alias as subquery)\n",
    "FROM (\n",
    "SELECT name, continent, inflation_rate\n",
    "FROM countries\n",
    "INNER JOIN economies\n",
    "USING (code)\n",
    "WHERE year = 2015) AS subquery\n",
    "-- Group by continent\n",
    "GROUP BY continent;\n",
    "```  \n",
    "\n",
    "3.  \n",
    "\n",
    "```SQL\n",
    "-- Select fields\n",
    "SELECT name, continent, inflation_rate\n",
    "-- From countries\n",
    "FROM countries\n",
    "-- Join to economies\n",
    "INNER JOIN economies\n",
    "-- Match on code\n",
    "ON countries.code = economies.code\n",
    "-- Where year is 2015\n",
    "WHERE year = 2015\n",
    "-- And inflation rate in subquery (alias as subquery)\n",
    "AND inflation_rate IN (\n",
    "SELECT MAX(inflation_rate) AS max_inf\n",
    "FROM (\n",
    "SELECT name, continent, inflation_rate\n",
    "FROM countries\n",
    "INNER JOIN economies\n",
    "ON countries.code = economies.code\n",
    "WHERE year = 2015) AS subquery\n",
    "GROUP BY continent);\n",
    "```"
   ]
  },
  {
   "cell_type": "markdown",
   "metadata": {},
   "source": [
    "## Subquery challenge\n",
    "Let's test your understanding of the subqueries with a challenge problem! Use a subquery to get 2015 economic data for countries that do not have\n",
    "\n",
    "- gov_form of 'Constitutional Monarchy' or\n",
    "- 'Republic' in their gov_form.  \n",
    "\n",
    "Here, gov_form stands for the form of the government for each country. Review the different entries for gov_form in the countries table."
   ]
  },
  {
   "cell_type": "markdown",
   "metadata": {},
   "source": [
    "```SQL\n",
    "-- Select fields\n",
    "SELECT code, inflation_rate, unemployment_rate\n",
    "-- From economies\n",
    "FROM economies\n",
    "-- Where year is 2015 and code is not in\n",
    "WHERE year = 2015 AND code NOT IN\n",
    "-- Subquery\n",
    "(SELECT code\n",
    "FROM countries\n",
    "WHERE (gov_form = 'Constitutional Monarchy' OR gov_form LIKE '%Republic%'))\n",
    "-- Order by inflation rate\n",
    "ORDER BY inflation_rate;\n",
    "```"
   ]
  },
  {
   "cell_type": "markdown",
   "metadata": {},
   "source": [
    "## Final challenge\n",
    "Welcome to the end of the course! The next three exercises will test your knowledge of the content covered in this course and apply many of the ideas you've seen to difficult problems. Good luck!\n",
    "\n",
    "Read carefully over the instructions and solve them step-by-step, thinking about how the different clauses work together.\n",
    "\n",
    "In this exercise, you'll need to get the country names and other 2015 data in the economies table and the countries table for Central American countries with an official language."
   ]
  },
  {
   "cell_type": "markdown",
   "metadata": {},
   "source": [
    "```SQL\n",
    "-- Select fields\n",
    "SELECT DISTINCT name, total_investment, imports\n",
    "-- From table (with alias)\n",
    "FROM countries AS c\n",
    "-- Join with table (with alias)\n",
    "LEFT JOIN economies AS e\n",
    "-- Match on code\n",
    "ON (c.code = e.code\n",
    "-- and code in Subquery\n",
    "AND c.code IN (\n",
    "SELECT l.code\n",
    "FROM languages AS l\n",
    "WHERE official = 'true'\n",
    ") )\n",
    "-- Where region and year are correct\n",
    "WHERE region = 'Central America' AND year = 2015\n",
    "-- Order by field\n",
    "ORDER BY name;\n",
    "```"
   ]
  },
  {
   "cell_type": "markdown",
   "metadata": {},
   "source": [
    "## Final challenge (2)\n",
    "Whoofta! That was challenging, huh?\n",
    "\n",
    "Let's ease up a bit and calculate the average fertility rate for each region in 2015."
   ]
  },
  {
   "cell_type": "markdown",
   "metadata": {},
   "source": [
    "```SQL\n",
    "-- Select fields\n",
    "SELECT region, continent, AVG(fertility_rate) AS avg_fert_rate\n",
    "-- From left table\n",
    "FROM countries AS c\n",
    "-- Join to right table\n",
    "INNER JOIN populations AS p\n",
    "-- Match on join condition\n",
    "ON c.code = p.country_code\n",
    "-- Where specific records matching some condition\n",
    "WHERE year = 2015\n",
    "-- Group appropriately?\n",
    "GROUP BY region, continent\n",
    "-- Order appropriately\n",
    "ORDER BY avg_fert_rate;\n",
    "```"
   ]
  },
  {
   "cell_type": "markdown",
   "metadata": {},
   "source": [
    "## Final challenge (3)\n",
    "Welcome to the last challenge problem. By now you're a query warrior! Remember that these challenges are designed to take you to the limit to solidify your SQL knowledge! Take a deep breath and solve this step-by-step.\n",
    "\n",
    "You are now tasked with determining the top 10 capital cities in Europe and the Americas in terms of a calculated percentage using city_proper_pop and metroarea_pop in cities.\n",
    "\n",
    "Do not use table aliasing in this exercise."
   ]
  },
  {
   "cell_type": "markdown",
   "metadata": {},
   "source": [
    "```SQL\n",
    "-- Select fields\n",
    "SELECT name, country_code, city_proper_pop, metroarea_pop,\n",
    "-- Calculate city_perc\n",
    "city_proper_pop / metroarea_pop * 100 AS city_perc\n",
    "-- From appropriate table    \n",
    "FROM cities\n",
    "-- Where\n",
    "WHERE name IN\n",
    "-- Subquery\n",
    "(SELECT capital\n",
    "FROM countries\n",
    "WHERE (continent = 'Europe'\n",
    "OR continent LIKE '%America'))\n",
    "AND metroarea_pop IS NOT NULL\n",
    "-- Order appropriately\n",
    "ORDER BY city_perc DESC\n",
    "-- Limit amount\n",
    "LIMIT 10;\n",
    "```"
   ]
  },
  {
   "cell_type": "code",
   "execution_count": null,
   "metadata": {},
   "outputs": [],
   "source": []
  }
 ],
 "metadata": {
  "kernelspec": {
   "display_name": "Python 3",
   "language": "python",
   "name": "python3"
  },
  "language_info": {
   "codemirror_mode": {
    "name": "ipython",
    "version": 3
   },
   "file_extension": ".py",
   "mimetype": "text/x-python",
   "name": "python",
   "nbconvert_exporter": "python",
   "pygments_lexer": "ipython3",
   "version": "3.7.0"
  }
 },
 "nbformat": 4,
 "nbformat_minor": 2
}
