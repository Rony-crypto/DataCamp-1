{
 "cells": [
  {
   "cell_type": "markdown",
   "metadata": {},
   "source": [
    "## In this chapter, you'll come to grips with different kinds of outer joins. You'll learn how to gain further insights into your data through left joins, right joins, and full joins. In addition to outer joins, you'll also work with cross joins."
   ]
  },
  {
   "cell_type": "markdown",
   "metadata": {},
   "source": [
    "## Left Join\n",
    "Now you'll explore the differences between performing an inner join and a left join using the cities and countries tables.\n",
    "\n",
    "You'll begin by performing an inner join with the cities table on the left and the countries table on the right. Remember to alias the name of the city field as city and the name of the country field as country.\n",
    "\n",
    "You will then change the query to a left join. Take note of how many records are in each query here!"
   ]
  },
  {
   "cell_type": "markdown",
   "metadata": {},
   "source": [
    "## Inner Join  \n",
    "```SQL\n",
    "SELECT c1.name AS city, code, c2.name AS country,\n",
    "   region, city_proper_pop\n",
    "FROM cities AS c1\n",
    "-- 1. Join right table (with alias)\n",
    "INNER JOIN countries AS c2\n",
    "-- 2. Match on country code\n",
    "ON c1.country_code = c2.code\n",
    "-- 3. Order by descending country code\n",
    "ORDER BY code DESC;\n",
    "```  \n",
    "## Left Join\n",
    "```SQL\n",
    "SELECT c1.name AS city, code, c2.name AS country,\n",
    "   region, city_proper_pop\n",
    "FROM cities AS c1\n",
    "-- 1. Join right table (with alias)\n",
    "LEFT JOIN countries AS c2\n",
    "-- 2. Match on country code\n",
    "ON c1.country_code = c2.code\n",
    "-- 3. Order by descending country code\n",
    "ORDER BY code DESC;\n",
    "```"
   ]
  },
  {
   "cell_type": "markdown",
   "metadata": {},
   "source": [
    "## Left join (2)\n",
    "Next, you'll try out another example comparing an inner join to its corresponding left join.  \n",
    "You will begin with an inner join on the countries table on the left with the languages table on the right. Then you'll change the code to a left join "
   ]
  },
  {
   "cell_type": "markdown",
   "metadata": {},
   "source": [
    "## Inner Join\n",
    "```SQL\n",
    "/*\n",
    "5. Select country name AS country, the country's local name,\n",
    "the language name AS language, and\n",
    "the percent of the language spoken in the country\n",
    "*/\n",
    "SELECT c.name AS country, local_name, l.name AS language, percent\n",
    "-- 1. From left table (alias as c)\n",
    "FROM countries AS c\n",
    "-- 2. Join to right table (alias as l)\n",
    "INNER JOIN languages AS l\n",
    "-- 3. Match on fields\n",
    "ON c.code = l.code\n",
    "-- 4. Order by descending country\n",
    "ORDER BY country DESC;    \n",
    "```  \n",
    "## Left Join\n",
    "```SQL\n",
    "/*\n",
    "5. Select country name AS country, the country's local name,\n",
    "the language name AS language, and\n",
    "the percent of the language spoken in the country\n",
    "*/\n",
    "SELECT c.name AS country, local_name, l.name AS language, percent\n",
    "-- 1. From left table (alias as c)\n",
    "FROM countries AS c\n",
    "-- 2. Join to right table (alias as l)\n",
    "LEFT JOIN languages AS l\n",
    "-- 3. Match on fields\n",
    "ON c.code = l.code\n",
    "-- 4. Order by descending country\n",
    "ORDER BY country DESC;\n",
    "```"
   ]
  },
  {
   "cell_type": "markdown",
   "metadata": {},
   "source": [
    "## Left join (3)\n",
    "You'll now revisit the use of the AVG() function introduced in our Intro to SQL for Data Science course. You will use it in combination with left join to determine the average gross domestic product (GDP) per capita by region in 2010."
   ]
  },
  {
   "cell_type": "markdown",
   "metadata": {},
   "source": [
    "__Instructions__\n",
    "- Begin with a left join with the countries table on the left and the economies table on the right.  \n",
    "```SQL \n",
    "-- 5. Select name, region, and gdp_percapita\n",
    "SELECT c.name, c.region, e.gdp_percapita\n",
    "-- 1. From countries (alias as c)\n",
    "FROM countries AS c\n",
    "-- 2. Left join with economies (alias as e)\n",
    "LEFT JOIN economies AS e\n",
    "-- 3. Match on code fields\n",
    "ON c.code = e.code\n",
    "-- 4. Focus on 2010\n",
    "WHERE year = 2010;\n",
    "```  \n",
    "- Modify your code to calculate the average GDP per capita AS avg_gdp for each region in 2010.\n",
    "- Select the region and avg_gdp fields.  \n",
    "```SQL \n",
    "-- Select fields\n",
    "SELECT c.region, AVG(e.gdp_percapita) AS avg_gdp\n",
    "-- From countries (alias as c)\n",
    "FROM countries AS c\n",
    "-- Left join with economies (alias as e)\n",
    "LEFT JOIN economies AS e\n",
    "-- Match on code fields\n",
    "ON c.code = e.code\n",
    "-- Focus on 2010\n",
    "WHERE year = 2010\n",
    "-- Group by region\n",
    "GROUP BY region;\n",
    "```  \n",
    "- Arrange this data on average GDP per capita for each region in 2010 from highest to lowest average GDP per capita.\n",
    "```SQL\n",
    "-- Select fields\n",
    "SELECT region, AVG(gdp_percapita) AS avg_gdp\n",
    "-- From countries (alias as c)\n",
    "FROM countries AS c\n",
    "-- Left join with economies (alias as e)\n",
    "LEFT JOIN economies as e\n",
    "-- Match on code fields\n",
    "ON c.code = e.code\n",
    "-- Focus on 2010\n",
    "WHERE year = 2010\n",
    "-- Group by region\n",
    "GROUP BY region\n",
    "-- Order by descending avg_gdp\n",
    "ORDER BY avg_gdp DESC;\n",
    "```"
   ]
  },
  {
   "cell_type": "markdown",
   "metadata": {},
   "source": [
    "## Right join\n",
    "Right joins aren't as common as left joins. One reason why is that you can always write a right join as a left join."
   ]
  },
  {
   "cell_type": "markdown",
   "metadata": {},
   "source": [
    "__Intructions__\n",
    "- The left join code is commented out here. Your task is to write a new query using rights joins that produces the same result as what the query using left joins produces. Keep this left joins code commented as you write your own query just below it using right joins to solve the problem.\n",
    "\n",
    "- Note the order of the joins matters in your conversion to using right joins! \n",
    "```SQL\n",
    "-- convert this code to use RIGHT JOINs instead of LEFT JOINs\n",
    "/*\n",
    "SELECT cities.name AS city, urbanarea_pop, countries.name AS country,\n",
    "   indep_year, languages.name AS language, percent\n",
    "FROM cities\n",
    "LEFT JOIN countries\n",
    "ON cities.country_code = countries.code\n",
    "LEFT JOIN languages\n",
    "ON countries.code = languages.code\n",
    "ORDER BY city, language;\n",
    "*/\n",
    "SELECT cities.name AS city, urbanarea_pop, countries.name AS country,\n",
    "   indep_year, languages.name AS language, percent\n",
    "FROM languages\n",
    "RIGHT JOIN countries\n",
    "ON languages.code = countries.code\n",
    "RIGHT JOIN cities\n",
    "ON countries.code = cities.country_code\n",
    "ORDER BY city, language;\n",
    "```"
   ]
  },
  {
   "cell_type": "markdown",
   "metadata": {},
   "source": [
    "## Full join\n",
    "In this exercise, you'll examine how your results differ when using a full join versus using a left join versus using an inner join with the countries and currencies tables.\n",
    "\n",
    "You will focus on the North American region and also where the name of the country is missing. Dig in to see what we mean!\n",
    "\n",
    "Begin with a full join with countries on the left and currencies on the right. The fields of interest have been SELECTed for you throughout this exercise.\n",
    "\n",
    "Then complete a similar left join and conclude with an inner join."
   ]
  },
  {
   "cell_type": "markdown",
   "metadata": {},
   "source": [
    "__Instructions__ \n",
    "- Choose records in which region corresponds to North America or is NULL.\n",
    "```SQL \n",
    "SELECT name AS country, code, region, basic_unit\n",
    "-- 3. From countries\n",
    "FROM countries\n",
    "-- 4. Join to currencies\n",
    "FULL JOIN currencies\n",
    "-- 5. Match on code\n",
    "USING (code)\n",
    "-- 1. Where region is North America or null\n",
    "WHERE region = 'North America' OR region IS Null\n",
    "-- 2. Order by region\n",
    "ORDER BY region;\n",
    "```  \n",
    "- Repeat the same query as above but use a LEFT JOIN instead of a FULL JOIN.\n",
    "```SQL\n",
    "SELECT name AS country, code, region, basic_unit\n",
    "-- 1. From countries\n",
    "FROM countries\n",
    "-- 2. Join to currencies\n",
    "LEFT JOIN currencies\n",
    "-- 3. Match on code\n",
    "USING (code)\n",
    "-- 4. Where region is North America or null\n",
    "WHERE region = 'North America' OR region IS Null\n",
    "-- 5. Order by region\n",
    "ORDER BY region;\n",
    "```   \n",
    "- Repeat the same query as above but use an INNER JOIN instead of a FULL JOIN  \n",
    "```SQL\n",
    "SELECT name AS country, code, region, basic_unit\n",
    "FROM countries\n",
    "-- 1. Join to currencies\n",
    "INNER JOIN currencies\n",
    "USING (code)\n",
    "-- 2. Where region is North America or null\n",
    "WHERE region = 'North America' OR region IS NULL\n",
    "-- 3. Order by region\n",
    "ORDER BY region;\n",
    "```"
   ]
  },
  {
   "cell_type": "markdown",
   "metadata": {},
   "source": [
    "## Full join (2)\n",
    "You'll now investigate a similar exercise to the last one, but this time focused on using a table with more records on the left than the right. You'll work with the languages and countries tables.\n",
    "\n",
    "Begin with a full join with languages on the left and countries on the right. Appropriate fields have been selected for you again here."
   ]
  },
  {
   "cell_type": "markdown",
   "metadata": {},
   "source": [
    "__Instructions__\n",
    "- Choose records in which countries.name starts with the capital letter 'V' or is NULL.\n",
    "- Arrange by countries.name in ascending order to more clearly see the results.  \n",
    "```SQL\n",
    "SELECT countries.name, code, languages.name AS language\n",
    "-- 3. From languages\n",
    "FROM languages\n",
    "-- 4. Join to countries\n",
    "FULL JOIN countries\n",
    "-- 5. Match on code\n",
    "USING (code)\n",
    "-- 1. Where countries.name starts with V or is null\n",
    "WHERE countries.name LIKE 'V%' OR countries.name IS Null\n",
    "-- 2. Order by ascending countries.name\n",
    "ORDER BY countries.name;\n",
    "```  \n",
    "- Repeat the same query as above but use a left join instead of a full join.  \n",
    "```SQL \n",
    "SELECT countries.name, code, languages.name AS language\n",
    "-- 3. From languages\n",
    "FROM languages\n",
    "-- 4. Join to countries\n",
    "FULL JOIN countries\n",
    "-- 5. Match on code\n",
    "USING (code)\n",
    "-- 1. Where countries.name starts with V or is null\n",
    "WHERE countries.name LIKE 'V%' OR countries.name IS Null\n",
    "-- 2. Order by ascending countries.name\n",
    "ORDER BY countries.name;\n",
    "```  \n",
    "- Repeat the same query as above but use an inner joing instead\n",
    "```SQL\n",
    "SELECT countries.name, code, languages.name AS language\n",
    "-- 3. From languages\n",
    "FROM languages\n",
    "-- 4. Join to countries\n",
    "FULL JOIN countries\n",
    "-- 5. Match on code\n",
    "USING (code)\n",
    "-- 1. Where countries.name starts with V or is null\n",
    "WHERE countries.name LIKE 'V%' OR countries.name IS Null\n",
    "-- 2. Order by ascending countries.name\n",
    "ORDER BY countries.name;\n",
    "```"
   ]
  },
  {
   "cell_type": "markdown",
   "metadata": {},
   "source": [
    "## Full join (3)\n",
    "You'll now explore using two consecutive full joins on the three tables you worked with in the previous two exercises."
   ]
  },
  {
   "cell_type": "markdown",
   "metadata": {},
   "source": [
    "```SQL \n",
    "-- 7. Select fields (with aliases)\n",
    "SELECT c1.name AS country, region, l.name AS language,\n",
    "   basic_unit, frac_unit\n",
    "-- 1. From countries (alias as c1)\n",
    "FROM countries AS c1\n",
    "-- 2. Join with languages (alias as l)\n",
    "FULL JOIN languages AS l\n",
    "-- 3. Match on code\n",
    "USING (code)\n",
    "-- 4. Join with currencies (alias as c2)\n",
    "FULL JOIN currencies AS c2\n",
    "-- 5. Match on code\n",
    "USING (code)\n",
    "-- 6. Where region like Melanesia and Micronesia\n",
    "WHERE region LIKE 'M%esia';\n",
    "```"
   ]
  },
  {
   "cell_type": "markdown",
   "metadata": {},
   "source": [
    "## A table of two cities\n",
    "This exercise looks to explore languages potentially and most frequently spoken in the cities of Hyderabad, India and Hyderabad, Pakistan.\n",
    "\n",
    "You will begin with a cross join with cities AS c on the left and languages AS l on the right. Then you will modify the query using an inner join in the next tab."
   ]
  },
  {
   "cell_type": "markdown",
   "metadata": {},
   "source": [
    "__Instructions__\n",
    "- Create the cross join as described above. (Recall that cross joins do not use ON or USING.)\n",
    "- Make use of LIKE and Hyder% to choose Hyderabad in both countries.\n",
    "- Select only the city name AS city and language name AS language  \n",
    "```SQL \n",
    "-- 4. Select fields\n",
    "SELECT c.name AS city,  l.name AS language\n",
    "-- 1. From cities (alias as c)\n",
    "FROM cities AS c   \n",
    "-- 2. Join to languages (alias as l)\n",
    "CROSS JOIN languages AS l\n",
    "-- 3. Where c.name like Hyderabad\n",
    "WHERE c.name LIKE 'Hyderabad%';\n",
    "```  \n",
    "- Use an inner join instead of a cross join. Think about what the difference will be in the results for this inner join result and the one for the cross join.\n",
    "```SQL\n",
    "-- 5. Select fields\n",
    "SELECT c.name AS city, l.name AS language\n",
    "-- 1. From cities (alias as c)\n",
    "FROM cities AS c        \n",
    "-- 2. Join to languages (alias as l)\n",
    "INNER JOIN languages AS l\n",
    "-- 3. Match on country code\n",
    "ON c.country_code = l.code\n",
    "-- 4. Where c.name like Hyderabad\n",
    "WHERE c.name LIKE 'Hyder%';\n",
    "```"
   ]
  },
  {
   "cell_type": "markdown",
   "metadata": {},
   "source": [
    "## Outer challenge\n",
    "Now that you're fully equipped to use outer joins, try a challenge problem to test your knowledge!\n",
    "\n",
    "In terms of life expectancy for 2010, determine the names of the lowest five countries and their regions."
   ]
  },
  {
   "cell_type": "markdown",
   "metadata": {},
   "source": [
    "```SQL\n",
    "-- Select fields\n",
    "SELECT c.name AS country, region, p.life_expectancy AS life_exp\n",
    "-- From countries (alias as c)\n",
    "FROM countries AS c\n",
    "-- Join to populations (alias as p)\n",
    "LEFT JOIN populations AS p\n",
    "-- Match on country code\n",
    "on c.code = p.country_code\n",
    "-- Focus on 2010\n",
    "WHERE year = 2010\n",
    "-- Order by life_exp\n",
    "ORDER BY life_exp\n",
    "-- Limit to 5 records\n",
    "LIMIT 5;\n",
    "```"
   ]
  },
  {
   "cell_type": "raw",
   "metadata": {},
   "source": [
    "This was the last exercise of this chapter on outer joins and cross joins. In the next chapter, you'll learn about set theory clauses!"
   ]
  },
  {
   "cell_type": "code",
   "execution_count": null,
   "metadata": {},
   "outputs": [],
   "source": []
  }
 ],
 "metadata": {
  "kernelspec": {
   "display_name": "Python 3",
   "language": "python",
   "name": "python3"
  },
  "language_info": {
   "codemirror_mode": {
    "name": "ipython",
    "version": 3
   },
   "file_extension": ".py",
   "mimetype": "text/x-python",
   "name": "python",
   "nbconvert_exporter": "python",
   "pygments_lexer": "ipython3",
   "version": "3.7.0"
  }
 },
 "nbformat": 4,
 "nbformat_minor": 2
}
