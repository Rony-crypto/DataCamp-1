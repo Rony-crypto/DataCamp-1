{
 "cells": [
  {
   "cell_type": "markdown",
   "metadata": {},
   "source": [
    "## In this chapter, you'll learn more about set theory using Venn diagrams and you will be introduced to union, union all, intersect, and except clauses. You'll finish by investigating semi-joins and anti-joins, which provide a nice introduction to subqueries"
   ]
  },
  {
   "cell_type": "markdown",
   "metadata": {},
   "source": [
    "## Union (1)"
   ]
  },
  {
   "cell_type": "markdown",
   "metadata": {},
   "source": [
    "```SQL\n",
    "-- Select fields from 2010 table\n",
    "SELECT * \n",
    "-- From 2010 table\n",
    "FROM economies2010\n",
    "-- Set theory clause\n",
    "UNION\n",
    "-- Select fields from 2015 table\n",
    "SELECT * \n",
    "-- From 2015 table\n",
    "FROM economies2015\n",
    "-- Order by code and year\n",
    "ORDER BY code, year;\n",
    "```"
   ]
  },
  {
   "cell_type": "markdown",
   "metadata": {},
   "source": [
    "## Union (2)\n",
    "UNION can also be used to determine all occurrences of a field across multiple tables."
   ]
  },
  {
   "cell_type": "markdown",
   "metadata": {},
   "source": [
    "```SQL\n",
    "-- Select field\n",
    "SELECT country_code\n",
    "-- From cities\n",
    "FROM cities\n",
    "-- Set theory clause\n",
    "UNION\n",
    "-- Select field\n",
    "SELECT code\n",
    "-- From currencies\n",
    "FROM currencies\n",
    "-- Order by country_code\n",
    "ORDER BY country_code;\n",
    "```"
   ]
  },
  {
   "cell_type": "markdown",
   "metadata": {},
   "source": [
    "## Union all\n",
    "As you saw, duplicates were removed from the previous two exercises by using UNION.\n",
    "\n",
    "To include duplicates, you can use UNION ALL."
   ]
  },
  {
   "cell_type": "markdown",
   "metadata": {},
   "source": [
    "__Instructions__\n",
    "- Determine all combinations (include duplicates) of country code and year that exist in either the economies or the populations tables. Order by code then year.\n",
    "- The result of the query should only have two columns/fields. Think about how many records this query should result in.\n",
    "- You'll use code very similar to this in your next exercise after the video. Make note of this code after completing it.  \n",
    "```SQL\n",
    "-- Select fields\n",
    "SELECT code, year\n",
    "-- From economies\n",
    "FROM economies\n",
    "-- Set theory clause\n",
    "UNION ALL\n",
    "-- Select fields\n",
    "SELECT country_code, year\n",
    "-- From populations\n",
    "FROM populations\n",
    "-- Order by code, year\n",
    "ORDER BY code, year;\n",
    "```\n"
   ]
  },
  {
   "cell_type": "markdown",
   "metadata": {},
   "source": [
    "## Intersect\n",
    "Repeat the previous UNION ALL exercise, this time looking at the records in common for country code and year for the economies and populations tables."
   ]
  },
  {
   "cell_type": "markdown",
   "metadata": {},
   "source": [
    "__Instructions__\n",
    "- Again, order by code and then by year, both in ascending order.\n",
    "- Note the number of records here (given at the bottom of query result) compared to the similar UNION ALL query result (814 records).  \n",
    "```SQL\n",
    "-- Select fields\n",
    "SELECT code, year\n",
    "-- From economies\n",
    "FROM economies\n",
    "-- Set theory clause\n",
    "INTERSECT\n",
    "-- Select fields\n",
    "SELECT country_code, year\n",
    "-- From populations\n",
    "FROM populations\n",
    "-- Order by code and year\n",
    "ORDER BY code, year;\n",
    "```"
   ]
  },
  {
   "cell_type": "markdown",
   "metadata": {},
   "source": [
    "## Intersect (2)\n",
    "As you think about major world cities and their corresponding country, you may ask which countries also have a city with the same name as their country name?"
   ]
  },
  {
   "cell_type": "markdown",
   "metadata": {},
   "source": [
    "__Instructions__\n",
    "- Use INTERSECT to answer this question with countries and cities!  \n",
    "\n",
    "__Answer:__\n",
    "```SQL\n",
    "-- Select fields\n",
    "SELECT name\n",
    "-- From countries\n",
    "FROM countries\n",
    "-- Set theory clause\n",
    "INTERSECT\n",
    "-- Select fields\n",
    "SELECT name\n",
    "-- From cities\n",
    "FROM cities;\n",
    "```"
   ]
  },
  {
   "cell_type": "raw",
   "metadata": {},
   "source": [
    "Nice one! Hong Kong is part of China, but it appears separately here because it has its own ISO country code. Depending upon your analysis, treating Hong Kong separately could be useful or a mistake. Always check your dataset closely before you perform an analysis!"
   ]
  },
  {
   "cell_type": "markdown",
   "metadata": {},
   "source": [
    "## Except\n",
    "Get the names of cities in cities which are not noted as capital cities in countries as a single field result.\n",
    "\n",
    "Note that there are some countries in the world that are not included in the countries table, which will result in some cities not being labeled as capital cities when in fact they are."
   ]
  },
  {
   "cell_type": "markdown",
   "metadata": {},
   "source": [
    "__Answer:__  \n",
    "```SQL\n",
    "-- Select field\n",
    "SELECT name\n",
    "-- From cities\n",
    "FROM cities\n",
    "-- Set theory clause\n",
    "EXCEPT\n",
    "-- Select field\n",
    "SELECT capital\n",
    "-- From countries\n",
    "FROM countries\n",
    "-- Order by result\n",
    "ORDER BY name;\n",
    "```"
   ]
  },
  {
   "cell_type": "markdown",
   "metadata": {},
   "source": [
    "## Except (2)\n",
    "Now you will complete the previous query in reverse!\n",
    "\n",
    "Determine the names of capital cities that are not listed in the cities table."
   ]
  },
  {
   "cell_type": "markdown",
   "metadata": {},
   "source": [
    "__Instructions__\n",
    "- Order by capital in ascending order.\n",
    "- The cities table contains information about 236 of the world's most populous cities. The result of your query may surprise you in terms of the number of capital cities that DO NOT appear in this list!  \n",
    "\n",
    "__Answer:__\n",
    "```SQL\n",
    "-- Select field\n",
    "SELECT capital\n",
    "-- From countries\n",
    "FROM countries\n",
    "-- Set theory clause\n",
    "EXCEPT\n",
    "-- Select field\n",
    "SELECT name\n",
    "-- From cities\n",
    "FROM cities\n",
    "-- Order by ascending capital\n",
    "ORDER BY capital;\n",
    "```"
   ]
  },
  {
   "cell_type": "markdown",
   "metadata": {},
   "source": [
    "## Semi-join\n",
    "You are now going to use the concept of a semi-join to identify languages spoken in the Middle East."
   ]
  },
  {
   "cell_type": "markdown",
   "metadata": {},
   "source": [
    "```SQL\n",
    "-- Select distinct fields\n",
    "SELECT DISTINCT name\n",
    "-- From languages\n",
    "FROM languages\n",
    "-- Where in statement\n",
    "WHERE code IN\n",
    "-- Subquery\n",
    "(SELECT code\n",
    "FROM countries\n",
    "WHERE region = 'Middle East')\n",
    "-- Order by name\n",
    "ORDER BY name;\n",
    "```"
   ]
  },
  {
   "cell_type": "markdown",
   "metadata": {},
   "source": [
    "## Diagnosing problems using anti-join\n",
    "Another powerful join in SQL is the anti-join. It is particularly useful in identifying which records are causing an incorrect number of records to appear in join queries.\n",
    "\n",
    "You will also see another example of a subquery here, as you saw in the first exercise on semi-joins. Your goal is to identify the currencies used in Oceanian countries!"
   ]
  },
  {
   "cell_type": "markdown",
   "metadata": {},
   "source": [
    "```SQL\n",
    "-- 3. Select fields\n",
    "SELECT code, name\n",
    "-- 4. From Countries\n",
    "FROM countries\n",
    "-- 5. Where continent is Oceania\n",
    "WHERE continent = 'Oceania'\n",
    "-- 1. And code not in\n",
    "AND code NOT IN\n",
    "-- 2. Subquery\n",
    "(SELECT code\n",
    " FROM currencies);\n",
    "```"
   ]
  },
  {
   "cell_type": "markdown",
   "metadata": {},
   "source": [
    "## Set theory challenge\n",
    "Congratulations! You've now made your way to the challenge problem for this third chapter. Your task here will be to incorporate two of UNION/UNION ALL/INTERSECT/EXCEPT to solve a challenge involving three tables.\n",
    "\n",
    "In addition, you will use a subquery as you have in the last two exercises! This will be great practice as you hop into subqueries more in Chapter 4!\n",
    "\n"
   ]
  },
  {
   "cell_type": "markdown",
   "metadata": {},
   "source": [
    "```SQL\n",
    "-- Select the city name\n",
    "SELECT name\n",
    "-- Alias the table where city name resides\n",
    "FROM cities AS c1\n",
    "-- Choose only records matching the result of multiple set theory clauses\n",
    "WHERE country_code IN\n",
    "(\n",
    "-- Select appropriate field from economies AS e\n",
    "SELECT e.code\n",
    "FROM economies AS e\n",
    "-- Get all additional (unique) values of the field from currencies AS c2   \n",
    "UNION\n",
    "SELECT c2.code\n",
    "FROM currencies AS c2\n",
    "-- Exclude those appearing in populations AS p  \n",
    "EXCEPT\n",
    "SELECT p.country_code\n",
    "FROM populations AS p\n",
    ");\n",
    "```"
   ]
  },
  {
   "cell_type": "raw",
   "metadata": {},
   "source": [
    "Success! Head over to the final chapter of this course to feel the power of subqueries at your fingertips!"
   ]
  },
  {
   "cell_type": "code",
   "execution_count": null,
   "metadata": {},
   "outputs": [],
   "source": []
  }
 ],
 "metadata": {
  "kernelspec": {
   "display_name": "Python 3",
   "language": "python",
   "name": "python3"
  },
  "language_info": {
   "codemirror_mode": {
    "name": "ipython",
    "version": 3
   },
   "file_extension": ".py",
   "mimetype": "text/x-python",
   "name": "python",
   "nbconvert_exporter": "python",
   "pygments_lexer": "ipython3",
   "version": "3.7.0"
  }
 },
 "nbformat": 4,
 "nbformat_minor": 2
}
