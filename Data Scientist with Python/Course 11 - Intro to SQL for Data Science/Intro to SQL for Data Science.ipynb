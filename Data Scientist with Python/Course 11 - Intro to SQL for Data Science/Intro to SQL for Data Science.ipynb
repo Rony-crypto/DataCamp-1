{
 "cells": [
  {
   "cell_type": "markdown",
   "metadata": {},
   "source": [
    "# Chapter 1 - Selecting columns"
   ]
  },
  {
   "cell_type": "markdown",
   "metadata": {},
   "source": [
    "### This chapter provides a brief introduction to working with relational databases. You'll learn about their structure, how to talk about them using database lingo, and how to begin an analysis by using simple SQL commands to select and summarize columns from database tables."
   ]
  },
  {
   "cell_type": "markdown",
   "metadata": {},
   "source": [
    "### SQL\n",
    "SQL, which stands for Structured Query Language, is a language for interacting with data stored in something called a relational database.\n",
    "\n",
    "You can think of a relational database as a collection of tables. A table is just a set of rows and columns, like a spreadsheet, which represents exactly one type of entity. For example, a table might represent employees in a company or purchases made, but not both.\n",
    "\n",
    "Each row, or record, of a table contains information about a single entity. For example, in a table representing employees, each row represents a single person. Each column, or field, of a table contains a single attribute for all rows in the table. For example, in a table representing employees, we might have a column containing first and last names for all employees.\n",
    "\n",
    "The table of employees might look something like this:\n",
    "\n",
    "<table>\n",
    "    <tr>\n",
    "        <td>id</td>\n",
    "        <td>name</td>\n",
    "        <td>age</td>\n",
    "        <td>nationality</td>\n",
    "    </tr>\n",
    "    <tr>\n",
    "        <td>1</td>\n",
    "        <td>Jessica</td>\n",
    "        <td>22</td>\n",
    "        <td>Ireland</td>\n",
    "    </tr>    \n",
    "    <tr>\n",
    "        <td>2</td>\n",
    "        <td>Gabriel</td>\n",
    "        <td>48</td>\n",
    "        <td>France</td>\n",
    "    </tr>\n",
    "    <tr>\n",
    "        <td>3</td>\n",
    "        <td>Laura</td>\n",
    "        <td>36</td>\n",
    "        <td>USA</td>\n",
    "    </tr>    \n",
    "</table>"
   ]
  },
  {
   "cell_type": "markdown",
   "metadata": {},
   "source": [
    "### SELECTing single columns\n",
    "While SQL can be used to create and modify databases, the focus of this course will be querying databases. A query is a request for data from a database table (or combination of tables). Querying is an essential skill for a data scientist, since the data you need for your analyses will often live in databases.\n",
    "\n",
    "In SQL, you can select data from a table using a SELECT statement. For example, the following query selects the name column from the people table:\n",
    "\n",
    "```SQL\n",
    "SELECT name\n",
    "FROM people;\n",
    "```  \n",
    "In this query, SELECT and FROM are called keywords. In SQL, keywords are not case-sensitive, which means you can write the same query as:\n",
    "\n",
    "```SQL\n",
    "select name\n",
    "from people;\n",
    "```  \n",
    "That said, it's good practice to make SQL keywords uppercase to distinguish them from other parts of your query, like column and table names.\n",
    "\n",
    "It's also good practice (but not necessary for the exercises in this course) to include a semicolon at the end of your query. This tells SQL where the end of your query is!"
   ]
  },
  {
   "cell_type": "markdown",
   "metadata": {},
   "source": [
    "### SELECTing multiple columns\n",
    "In the real world, you will often want to select multiple columns. Luckily, SQL makes this really easy. To select multiple columns from a table, simply separate the column names with commas!\n",
    "\n",
    "For example, this query selects two columns, name and birthdate, from the people table:\n",
    "\n",
    "```SQL\n",
    "SELECT name, birthdate\n",
    "FROM people;\n",
    "```  \n",
    "Sometimes, you may want to select all columns from a table. Typing out every column name would be a pain, so there's a handy shortcut:\n",
    "\n",
    "```SQL\n",
    "SELECT *\n",
    "FROM people;\n",
    "```  \n",
    "If you only want to return a certain number of results, you can use the LIMIT keyword to limit the number of rows returned:\n",
    "\n",
    "```SQL\n",
    "SELECT *\n",
    "FROM people\n",
    "LIMIT 10;\n",
    "```"
   ]
  },
  {
   "cell_type": "markdown",
   "metadata": {},
   "source": [
    "### SELECT DISTINCT\n",
    "Often your results will include many duplicate values. If you want to select all the unique values from a column, you can use the DISTINCT keyword.\n",
    "\n",
    "This might be useful if, for example, you're interested in knowing which languages are represented in the films table:\n",
    "\n",
    "```SQL\n",
    "SELECT DISTINCT language\n",
    "FROM films;\n",
    "```"
   ]
  },
  {
   "cell_type": "markdown",
   "metadata": {},
   "source": [
    "### Learning to COUNT\n",
    "What if you want to count the number of employees in your employees table? The COUNT statement lets you do this by returning the number of rows in one or more columns.\n",
    "\n",
    "For example, this code gives the number of rows in the people table:\n",
    "\n",
    "```SQL\n",
    "SELECT COUNT(*)\n",
    "FROM people;\n",
    "```"
   ]
  },
  {
   "cell_type": "markdown",
   "metadata": {},
   "source": [
    "### Practice with COUNT\n",
    "As you've seen, COUNT(*) tells you how many rows are in a table. However, if you want to count the number of non-missing values in a particular column, you can call COUNT on just that column.\n",
    "\n",
    "For example, to count the number of birth dates present in the people table:\n",
    "\n",
    "```SQL\n",
    "SELECT COUNT(birthdate)\n",
    "FROM people;\n",
    "```  \n",
    "It's also common to combine COUNT with DISTINCT to count the number of distinct values in a column.\n",
    "\n",
    "For example, this query counts the number of distinct birth dates contained in the people table:\n",
    "\n",
    "```SQL\n",
    "SELECT COUNT(DISTINCT birthdate)\n",
    "FROM people;\n",
    "```"
   ]
  },
  {
   "cell_type": "markdown",
   "metadata": {},
   "source": [
    "---"
   ]
  },
  {
   "cell_type": "markdown",
   "metadata": {},
   "source": [
    "# Chapter 2 - Filtering rows"
   ]
  },
  {
   "cell_type": "markdown",
   "metadata": {},
   "source": [
    "### This chapter builds on the first by teaching you how to filter tables for rows satisfying some criteria of interest. You'll learn how to use basic comparison operators, combine multiple criteria, match patterns in text, and much more."
   ]
  },
  {
   "cell_type": "markdown",
   "metadata": {},
   "source": [
    "### Filtering results\n",
    "Congrats on finishing the first chapter! You now know how to select columns and perform basic counts. This chapter will focus on filtering your results.\n",
    "\n",
    "In SQL, the WHERE keyword allows you to filter based on both text and numeric values in a table. There are a few different comparison operators you can use:\n",
    "\n",
    "- `=` equal\n",
    "- `<>` not equal\n",
    "- `<` less than\n",
    "- `>` greater than\n",
    "- `<=` less than or equal to\n",
    "- `>=` greater than or equal to  \n",
    "\n",
    "For example, you can filter text records such as title. The following code returns all films with the title 'Metropolis':\n",
    "\n",
    "```SQL\n",
    "SELECT title\n",
    "FROM films\n",
    "WHERE title = 'Metropolis';\n",
    "```  \n",
    "\n",
    "Notice that the WHERE clause always comes after the FROM statement!\n",
    "\n",
    "__Note that in this course we will use <> and not != for the not equal operator, as per the SQL standard.__"
   ]
  },
  {
   "cell_type": "markdown",
   "metadata": {},
   "source": [
    "### Simple filtering of numeric values\n",
    "The WHERE clause can also be used to filter numeric records, such as years or ages.\n",
    "\n",
    "For example, the following query selects all details for films with a budget over ten thousand dollars:\n",
    "\n",
    "```python\n",
    "SELECT *\n",
    "FROM films\n",
    "WHERE budget > 10000;\n",
    "```"
   ]
  },
  {
   "cell_type": "markdown",
   "metadata": {},
   "source": [
    "### Simple filtering of text\n",
    "Remember, the WHERE clause can also be used to filter text results, such as names or countries.\n",
    "\n",
    "For example, this query gets the titles of all films which were filmed in China:\n",
    "\n",
    "```SQL\n",
    "SELECT title\n",
    "FROM films\n",
    "WHERE country = 'China';\n",
    "```  \n",
    "__Important: in PostgreSQL (the version of SQL we're using), you must use single quotes with WHERE.__"
   ]
  },
  {
   "cell_type": "markdown",
   "metadata": {},
   "source": [
    "### WHERE AND\n",
    "Often, you'll want to select data based on multiple conditions. You can build up your WHERE queries by combining multiple conditions with the AND keyword.\n",
    "\n",
    "For example,\n",
    "\n",
    "```SQL\n",
    "SELECT title\n",
    "FROM films\n",
    "WHERE release_year > 1994\n",
    "AND release_year < 2000;\n",
    "```  \n",
    "gives you the titles of films released between 1994 and 2000.\n",
    "\n",
    "Note that you need to specify the column name separately for every AND condition, so the following would be invalid:\n",
    "\n",
    "```SQL\n",
    "SELECT title\n",
    "FROM films\n",
    "WHERE release_year > 1994 AND < 2000;\n",
    "```  \n",
    "\n",
    "You can add as many AND conditions as you need!"
   ]
  },
  {
   "cell_type": "markdown",
   "metadata": {},
   "source": [
    "### WHERE AND OR\n",
    "What if you want to select rows based on multiple conditions where some but not all of the conditions need to be met? For this, SQL has the OR operator.\n",
    "\n",
    "For example, the following returns all films released in either 1994 or 2000:\n",
    "\n",
    "```SQL\n",
    "SELECT title\n",
    "FROM films\n",
    "WHERE release_year = 1994\n",
    "OR release_year = 2000;\n",
    "```  \n",
    "Note that you need to specify the column for every OR condition, so the following is invalid:\n",
    "\n",
    "```SQL\n",
    "SELECT title\n",
    "FROM films\n",
    "WHERE release_year = 1994 OR 2000;\n",
    "```  \n",
    "When combining AND and OR, be sure to enclose the individual clauses in parentheses, like so:\n",
    "\n",
    "```SQL\n",
    "SELECT title\n",
    "FROM films\n",
    "WHERE (release_year = 1994 OR release_year = 1995)\n",
    "AND (certification = 'PG' OR certification = 'R');\n",
    "```  \n",
    "Otherwise, due to SQL's precedence rules, you may not get the results you're expecting!"
   ]
  },
  {
   "cell_type": "markdown",
   "metadata": {},
   "source": [
    "### WHERE AND OR (2)\n",
    "You now know how to select rows that meet some but not all conditions by combining AND and OR.\n",
    "\n",
    "For example, the following query selects all films that were released in 1994 or 1995 which had a rating of PG or R.\n",
    "\n",
    "```SQL\n",
    "SELECT title\n",
    "FROM films\n",
    "WHERE (release_year = 1994 OR release_year = 1995)\n",
    "AND (certification = 'PG' OR certification = 'R');\n",
    "```"
   ]
  },
  {
   "cell_type": "markdown",
   "metadata": {},
   "source": [
    "### BETWEEN\n",
    "As you've learned, you can use the following query to get titles of all films released in and between 1994 and 2000:\n",
    "\n",
    "```SQL\n",
    "SELECT title\n",
    "FROM films\n",
    "WHERE release_year >= 1994\n",
    "AND release_year <= 2000;\n",
    "```  \n",
    "Checking for ranges like this is very common, so in SQL the BETWEEN keyword provides a useful shorthand for filtering values within a specified range. This query is equivalent to the one above:\n",
    "\n",
    "```SQL\n",
    "SELECT title\n",
    "FROM films\n",
    "WHERE release_year\n",
    "BETWEEN 1994 AND 2000;\n",
    "```  \n",
    "It's important to remember that BETWEEN is inclusive, meaning the beginning and end values are included in the results!"
   ]
  },
  {
   "cell_type": "markdown",
   "metadata": {},
   "source": [
    "### BETWEEN (2)\n",
    "Similar to the WHERE clause, the BETWEEN clause can be used with multiple AND and OR operators, so you can build up your queries and make them even more powerful!\n",
    "\n",
    "For example, suppose we have a table called kids. We can get the names of all kids between the ages of 2 and 12 from the United States:\n",
    "\n",
    "```SQL\n",
    "SELECT name\n",
    "FROM kids\n",
    "WHERE age BETWEEN 2 AND 12\n",
    "AND nationality = 'USA';\n",
    "```"
   ]
  },
  {
   "cell_type": "markdown",
   "metadata": {},
   "source": [
    "### WHERE IN\n",
    "As you've seen, WHERE is very useful for filtering results. However, if you want to filter based on many conditions, WHERE can get unwieldy. For example:\n",
    "\n",
    "```SQL\n",
    "SELECT name\n",
    "FROM kids\n",
    "WHERE age = 2\n",
    "OR age = 4\n",
    "OR age = 6\n",
    "OR age = 8\n",
    "OR age = 10;\n",
    "```  \n",
    "Enter the IN operator! The IN operator allows you to specify multiple values in a WHERE clause, making it easier and quicker to specify multiple OR conditions! Neat, right?\n",
    "\n",
    "So, the above example would become simply:\n",
    "\n",
    "```SQL\n",
    "SELECT name\n",
    "FROM kids\n",
    "WHERE age IN (2, 4, 6, 8, 10);\n",
    "```"
   ]
  },
  {
   "cell_type": "markdown",
   "metadata": {},
   "source": [
    "### Introduction to NULL and IS NULL\n",
    "In SQL, NULL represents a missing or unknown value. You can check for NULL values using the expression IS NULL. For example, to count the number of missing birth dates in the people table:\n",
    "\n",
    "```SQL\n",
    "SELECT COUNT(*)\n",
    "FROM people\n",
    "WHERE birthdate IS NULL;\n",
    "```  \n",
    "As you can see, IS NULL is useful when combined with WHERE to figure out what data you're missing.\n",
    "\n",
    "Sometimes, you'll want to filter out missing values so you only get results which are not NULL. To do this, you can use the IS NOT NULL operator.\n",
    "\n",
    "For example, this query gives the names of all people whose birth dates are not missing in the people table.\n",
    "\n",
    "```SQL\n",
    "SELECT name\n",
    "FROM people\n",
    "WHERE birthdate IS NOT NULL;\n",
    "```"
   ]
  },
  {
   "cell_type": "markdown",
   "metadata": {},
   "source": [
    "### LIKE and NOT LIKE\n",
    "As you've seen, the WHERE clause can be used to filter text data. However, so far you've only been able to filter by specifying the exact text you're interested in. In the real world, often you'll want to search for a pattern rather than a specific text string.\n",
    "\n",
    "In SQL, the LIKE operator can be used in a WHERE clause to search for a pattern in a column. To accomplish this, you use something called a wildcard as a placeholder for some other values. There are two wildcards you can use with LIKE:\n",
    "\n",
    "The % wildcard will match zero, one, or many characters in text. For example, the following query matches companies like 'Data', 'DataC' 'DataCamp', 'DataMind', and so on:\n",
    "\n",
    "```SQL\n",
    "SELECT name\n",
    "FROM companies\n",
    "WHERE name LIKE 'Data%';\n",
    "```  \n",
    "The _ wildcard will match a single character. For example, the following query matches companies like 'DataCamp', 'DataComp', and so on:\n",
    "\n",
    "```SQL\n",
    "SELECT name\n",
    "FROM companies\n",
    "WHERE name LIKE 'DataC_mp';\n",
    "```  \n",
    "You can also use the NOT LIKE operator to find records that don't match the pattern you specify."
   ]
  },
  {
   "cell_type": "markdown",
   "metadata": {},
   "source": [
    "---"
   ]
  },
  {
   "cell_type": "markdown",
   "metadata": {},
   "source": [
    "# Chapter 3 - Aggregate Functions"
   ]
  },
  {
   "cell_type": "markdown",
   "metadata": {},
   "source": [
    "### This chapter builds on the first two by teaching you how to use aggregate functions to summarize your data and gain useful insights. Additionally, you'll learn about arithmetic in SQL, and how to use aliases to make your results more readable!"
   ]
  },
  {
   "cell_type": "markdown",
   "metadata": {},
   "source": [
    "### Aggregate functions\n",
    "Often, you will want to perform some calculation on the data in a database. SQL provides a few functions, called aggregate functions, to help you out with this.\n",
    "\n",
    "For example,\n",
    "\n",
    "```SQL\n",
    "SELECT AVG(budget)\n",
    "FROM films;\n",
    "```  \n",
    "gives you the average value from the budget column of the films table. Similarly, the MAX function returns the highest budget:\n",
    "\n",
    "```SQL\n",
    "SELECT MAX(budget)\n",
    "FROM films;\n",
    "```  \n",
    "The SUM function returns the result of adding up the numeric values in a column:\n",
    "\n",
    "```SQL\n",
    "SELECT SUM(budget)\n",
    "FROM films;\n",
    "```  \n",
    "You can probably guess what the MIN function does!"
   ]
  },
  {
   "cell_type": "markdown",
   "metadata": {},
   "source": [
    "### WHERE\n",
    "Aggregate functions can be combined with the WHERE clause to gain further insights from your data.\n",
    "\n",
    "For example, to get the total budget of movies made in the year 2010 or later:\n",
    "\n",
    "```SQL\n",
    "SELECT SUM(budget)\n",
    "FROM films\n",
    "WHERE release_year >= 2010;\n",
    "```"
   ]
  },
  {
   "cell_type": "markdown",
   "metadata": {},
   "source": [
    "### A note on arithmetic\n",
    "In addition to using aggregate functions, you can perform basic arithmetic with symbols like +, -, *, and /.\n",
    "\n",
    "So, for example, this gives a result of 12:\n",
    "\n",
    "```SQL\n",
    "SELECT (4 * 3);\n",
    "```  \n",
    "However, the following gives a result of 1:\n",
    "\n",
    "```SQL\n",
    "SELECT (4 / 3);\n",
    "```  \n",
    "What's going on here?\n",
    "\n",
    "SQL assumes that if you divide an integer by an integer, you want to get an integer back. So be careful when dividing!\n",
    "\n",
    "If you want more precision when dividing, you can add decimal places to your numbers. For example,\n",
    "\n",
    "```SQL\n",
    "SELECT (4.0 / 3.0) AS result;\n",
    "```  \n",
    "gives you the result you would expect: 1.333."
   ]
  },
  {
   "cell_type": "markdown",
   "metadata": {},
   "source": [
    "### It's AS simple AS aliasing\n",
    "You may have noticed in the first exercise of this chapter that the column name of your result was just the name of the function you used. For example,\n",
    "\n",
    "```SQL\n",
    "SELECT MAX(budget)\n",
    "FROM films;\n",
    "```  \n",
    "gives you a result with one column, named max. But what if you use two functions like this?\n",
    "\n",
    "```SQL\n",
    "SELECT MAX(budget), MAX(duration)\n",
    "FROM films;\n",
    "```  \n",
    "Well, then you'd have two columns named max, which isn't very useful!\n",
    "\n",
    "To avoid situations like this, SQL allows you to do something called aliasing. Aliasing simply means you assign a temporary name to something. To alias, you use the AS keyword, which you've already seen earlier in this course.\n",
    "\n",
    "For example, in the above example we could use aliases to make the result clearer:\n",
    "\n",
    "```SQL\n",
    "SELECT MAX(budget) AS max_budget,\n",
    "       MAX(duration) AS max_duration\n",
    "FROM films;\n",
    "```  \n",
    "Aliases are helpful for making results more readable!"
   ]
  },
  {
   "cell_type": "markdown",
   "metadata": {},
   "source": [
    "###  Even more aliasing\n",
    "Let's practice your newfound aliasing skills some more before moving on!\n",
    "\n",
    "Recall: SQL assumes that if you divide an integer by an integer, you want to get an integer back.\n",
    "\n",
    "This means that the following will erroneously result in 400.0:\n",
    "\n",
    "```SQL\n",
    "SELECT 45 / 10 * 100.0;\n",
    "```  \n",
    "This is because 45 / 10 evaluates to an integer (4), and not a decimal number like we would expect.\n",
    "\n",
    "So when you're dividing make sure at least one of your numbers has a decimal place:\n",
    "\n",
    "```SQL\n",
    "SELECT 45 * 100.0 / 10;\n",
    "```   \n",
    "The above now gives the correct answer of 450.0 since the numerator (45 * 100.0) of the division is now a decimal!"
   ]
  },
  {
   "cell_type": "markdown",
   "metadata": {},
   "source": [
    "---"
   ]
  },
  {
   "cell_type": "markdown",
   "metadata": {},
   "source": [
    "# Chapter 4 - Sorting, grouping and joins"
   ]
  },
  {
   "cell_type": "markdown",
   "metadata": {},
   "source": [
    "### This chapter provides a brief introduction to sorting and grouping your results, and briefly touches on the concept of joins."
   ]
  },
  {
   "cell_type": "markdown",
   "metadata": {},
   "source": [
    "### ORDER BY\n",
    "Congratulations on making it this far! You now know how to select and filter your results.\n",
    "\n",
    "In this chapter you'll learn how to sort and group your results to gain further insight. Let's go!\n",
    "\n",
    "In SQL, the ORDER BY keyword is used to sort results in ascending or descending order according to the values of one or more columns.\n",
    "\n",
    "By default ORDER BY will sort in ascending order. If you want to sort the results in descending order, you can use the DESC keyword. For example,\n",
    "\n",
    "```SQL\n",
    "SELECT title\n",
    "FROM films\n",
    "ORDER BY release_year DESC;\n",
    "```  \n",
    "gives you the titles of films sorted by release year, from newest to oldest.\n",
    "\n",
    "__How do you think ORDER BY sorts a column of text values by default?__  \n",
    "\n",
    "__Ans.__ Alphabetically (A-Z)"
   ]
  },
  {
   "cell_type": "markdown",
   "metadata": {},
   "source": [
    "### Sorting single columns (DESC)\n",
    "To order results in descending order, you can put the keyword DESC after your ORDER BY. For example, to get all the names in the people table, in reverse alphabetical order:\n",
    "\n",
    "```SQL\n",
    "SELECT name\n",
    "FROM people\n",
    "ORDER BY name DESC;\n",
    "```"
   ]
  },
  {
   "cell_type": "markdown",
   "metadata": {},
   "source": [
    "### Sorting multiple columns\n",
    "ORDER BY can also be used to sort on multiple columns. It will sort by the first column specified, then sort by the next, then the next, and so on. For example,\n",
    "\n",
    "```SQL\n",
    "SELECT birthdate, name\n",
    "FROM people\n",
    "ORDER BY birthdate, name;\n",
    "```  \n",
    "sorts on birth dates first (oldest to newest) and then sorts on the names in alphabetical order. __The order of columns is important!__"
   ]
  },
  {
   "cell_type": "markdown",
   "metadata": {},
   "source": [
    "### GROUP BY\n",
    "Now you know how to sort results! Often you'll need to aggregate results. For example, you might want to count the number of male and female employees in your company. Here, what you want is to group all the males together and count them, and group all the females together and count them. In SQL, GROUP BY allows you to group a result by one or more columns, like so:\n",
    "\n",
    "```SQL\n",
    "SELECT sex, count(*)\n",
    "FROM employees\n",
    "GROUP BY sex;\n",
    "```  \n",
    "This might give, for example:\n",
    "\n",
    "<table>\n",
    "<tr>\n",
    "    <td>sex</td>\t\n",
    "    <td>count</td>\n",
    "</tr>\n",
    "<tr>\n",
    "    <td>male</td>\n",
    "    <td>15</td>\n",
    "</tr>\n",
    "<tr>\n",
    "    <td>female</td>\n",
    "    <td>19</td>\n",
    "</table>\n",
    "Commonly, GROUP BY is used with aggregate functions like COUNT() or MAX(). Note that GROUP BY always goes after the FROM clause!"
   ]
  },
  {
   "cell_type": "markdown",
   "metadata": {},
   "source": [
    "### GROUP BY practice\n",
    "As you've just seen, combining aggregate functions with GROUP BY can yield some powerful results!\n",
    "\n",
    "A word of warning: SQL will return an error if you try to SELECT a field that is not in your GROUP BY clause without using it to calculate some kind of value about the entire group.\n",
    "\n",
    "Note that you can combine GROUP BY with ORDER BY to group your results, calculate something about them, and then order your results. For example,\n",
    "\n",
    "```SQL\n",
    "SELECT sex, count(*)\n",
    "FROM employees\n",
    "GROUP BY sex\n",
    "ORDER BY count DESC;\n",
    "```  \n",
    "\n",
    "might return something like \n",
    "<table>\n",
    "<tr>\n",
    "    <td>sex</td>\t\n",
    "    <td>count</td>\n",
    "</tr>\n",
    "<tr>\n",
    "    <td>male</td>\n",
    "    <td>15</td>\n",
    "</tr>\n",
    "<tr>\n",
    "    <td>female</td>\n",
    "    <td>19</td>\n",
    "</table>  \n",
    "\n",
    "because there are more females at our company than males. Note also that ORDER BY always goes after GROUP BY. "
   ]
  },
  {
   "cell_type": "markdown",
   "metadata": {},
   "source": [
    "### HAVING a great time\n",
    "In SQL, aggregate functions can't be used in WHERE clauses. For example, the following query is invalid:\n",
    "\n",
    "```SQL\n",
    "SELECT release_year\n",
    "FROM films\n",
    "GROUP BY release_year\n",
    "WHERE COUNT(title) > 10;\n",
    "```  \n",
    "This means that if you want to filter based on the result of an aggregate function, you need another way! That's where the HAVING clause comes in. For example,\n",
    "\n",
    "```SQL\n",
    "SELECT release_year\n",
    "FROM films\n",
    "GROUP BY release_year\n",
    "HAVING COUNT(title) > 10;\n",
    "```  \n",
    "shows only those years in which more than 10 films were released."
   ]
  }
 ],
 "metadata": {
  "kernelspec": {
   "display_name": "Python 3",
   "language": "python",
   "name": "python3"
  },
  "language_info": {
   "codemirror_mode": {
    "name": "ipython",
    "version": 3
   },
   "file_extension": ".py",
   "mimetype": "text/x-python",
   "name": "python",
   "nbconvert_exporter": "python",
   "pygments_lexer": "ipython3",
   "version": "3.7.0"
  }
 },
 "nbformat": 4,
 "nbformat_minor": 2
}
